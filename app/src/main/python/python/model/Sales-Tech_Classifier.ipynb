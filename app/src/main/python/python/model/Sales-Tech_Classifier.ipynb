{
 "cells": [
  {
   "cell_type": "markdown",
   "metadata": {},
   "source": [
    "# Sales-Tech Personality Classifier\n",
    "\n",
    "This programme will classify people into Tech / Sale based on their past posts or bios on social media using the NLP classifier like BERT"
   ]
  },
  {
   "cell_type": "code",
   "execution_count": 2,
   "metadata": {},
   "outputs": [],
   "source": [
    "import pandas as pd\n",
    "import numpy as np\n",
    "import matplotlib.pyplot as plt\n",
    "import nltk\n",
    "import string\n",
    "from nltk.classify import NaiveBayesClassifier\n",
    "\n",
    "nltk.download('stopwords')\n",
    "nltk.download('punkt')"
   ]
  },
  {
   "cell_type": "markdown",
   "metadata": {},
   "source": [
    "### Importing the dataset"
   ]
  },
  {
   "cell_type": "code",
   "execution_count": 6,
   "metadata": {},
   "outputs": [
    {
     "name": "stdout",
     "output_type": "stream",
     "text": [
      "116\n"
     ]
    }
   ],
   "source": [
    "import random\n",
    "data_set = pd.read_csv(\"sales_data.csv\")\n",
    "data_set = data_set.sample(frac=1.0)\n",
    "data_set.head()\n",
    "print(len(data_set))"
   ]
  },
  {
   "cell_type": "markdown",
   "metadata": {},
   "source": [
    "### Checking the dataset for missing values"
   ]
  },
  {
   "cell_type": "code",
   "execution_count": 7,
   "metadata": {},
   "outputs": [
    {
     "data": {
      "text/plain": [
       "Role    False\n",
       "Bio     False\n",
       "dtype: bool"
      ]
     },
     "execution_count": 7,
     "metadata": {},
     "output_type": "execute_result"
    }
   ],
   "source": [
    "data_set.isnull().any()"
   ]
  },
  {
   "cell_type": "markdown",
   "metadata": {},
   "source": [
    "## Exploring the dataset"
   ]
  },
  {
   "cell_type": "markdown",
   "metadata": {},
   "source": [
    "The size of the dataset"
   ]
  },
  {
   "cell_type": "code",
   "execution_count": 8,
   "metadata": {},
   "outputs": [
    {
     "data": {
      "text/plain": [
       "(116, 2)"
      ]
     },
     "execution_count": 8,
     "metadata": {},
     "output_type": "execute_result"
    }
   ],
   "source": [
    "data_set.shape"
   ]
  },
  {
   "cell_type": "markdown",
   "metadata": {},
   "source": [
    "Finding the unique vales from type of personality column"
   ]
  },
  {
   "cell_type": "code",
   "execution_count": 9,
   "metadata": {},
   "outputs": [
    {
     "data": {
      "text/plain": [
       "array(['Salesperson', 'Tech'], dtype=object)"
      ]
     },
     "execution_count": 9,
     "metadata": {},
     "output_type": "execute_result"
    }
   ],
   "source": [
    "types = np.unique(np.array(data_set['Role']))\n",
    "types"
   ]
  },
  {
   "cell_type": "markdown",
   "metadata": {},
   "source": [
    "The total number of posts for each type"
   ]
  },
  {
   "cell_type": "code",
   "execution_count": 10,
   "metadata": {
    "scrolled": true
   },
   "outputs": [
    {
     "data": {
      "text/html": [
       "<div>\n",
       "<style scoped>\n",
       "    .dataframe tbody tr th:only-of-type {\n",
       "        vertical-align: middle;\n",
       "    }\n",
       "\n",
       "    .dataframe tbody tr th {\n",
       "        vertical-align: top;\n",
       "    }\n",
       "\n",
       "    .dataframe thead th {\n",
       "        text-align: right;\n",
       "    }\n",
       "</style>\n",
       "<table border=\"1\" class=\"dataframe\">\n",
       "  <thead>\n",
       "    <tr style=\"text-align: right;\">\n",
       "      <th></th>\n",
       "      <th>Bio</th>\n",
       "    </tr>\n",
       "    <tr>\n",
       "      <th>Role</th>\n",
       "      <th></th>\n",
       "    </tr>\n",
       "  </thead>\n",
       "  <tbody>\n",
       "    <tr>\n",
       "      <th>Salesperson</th>\n",
       "      <td>60</td>\n",
       "    </tr>\n",
       "    <tr>\n",
       "      <th>Tech</th>\n",
       "      <td>56</td>\n",
       "    </tr>\n",
       "  </tbody>\n",
       "</table>\n",
       "</div>"
      ],
      "text/plain": [
       "             Bio\n",
       "Role            \n",
       "Salesperson   60\n",
       "Tech          56"
      ]
     },
     "execution_count": 10,
     "metadata": {},
     "output_type": "execute_result"
    }
   ],
   "source": [
    "total = data_set.groupby(['Role']).count()\n",
    "total"
   ]
  },
  {
   "cell_type": "code",
   "execution_count": 11,
   "metadata": {},
   "outputs": [
    {
     "data": {
      "image/png": "[encoded data removed]",
      "text/plain": [
       "<Figure size 640x480 with 1 Axes>"
      ]
     },
     "metadata": {},
     "output_type": "display_data"
    }
   ],
   "source": [
    "import matplotlib.pyplot as plt\n",
    "\n",
    "# Sample data: Number of individuals in each role\n",
    "roles = [\"Salesperson\", \"Tech Person\"]\n",
    "counts = [60, 56]  # Update with your actual data\n",
    "\n",
    "# Create a bar chart\n",
    "plt.bar(roles, counts, color=['blue', 'green'])\n",
    "plt.xlabel(\"Roles\")\n",
    "plt.ylabel(\"Number of Individuals\")\n",
    "plt.title(\"Salesperson vs. Tech Person\")\n",
    "\n",
    "# Display the chart\n",
    "plt.show()"
   ]
  },
  {
   "cell_type": "markdown",
   "metadata": {},
   "source": [
    "## Organising the data to create a bag words model"
   ]
  },
  {
   "cell_type": "markdown",
   "metadata": {},
   "source": [
    "Segrating all the posts by their types and ***creating a new dataframe to store all this in***"
   ]
  },
  {
   "cell_type": "code",
   "execution_count": 12,
   "metadata": {},
   "outputs": [
    {
     "name": "stdout",
     "output_type": "stream",
     "text": [
      "[['Salesperson'\n",
      "  \"Olivia is a human resources specialist known for her talent in talent acquisition and employee development. She's passionate about diversity and inclusion in the workplace and is an active member of a local women's networking group.\"]\n",
      " ['Salesperson'\n",
      "  'Leo is a dedicated speech therapist with a commitment to improving communication skills in individuals with speech disorders. He enjoys playing chess and volunteers as a mentor to young chess enthusiasts.']\n",
      " ['Salesperson'\n",
      "  \"Thomas is a dedicated team player who thrives in collaborative environments. He's known for his ability to foster teamwork and facilitate productive meetings. He's an avid reader and volunteers as a youth mentor.\"]\n",
      " ['Salesperson'\n",
      "  \"Natalie is a committed social justice advocate with a background in community organizing. She's passionate about civil rights and volunteers as a legal aid assistant for those in need.\"]\n",
      " ['Salesperson'\n",
      "  'Mia is a creative content strategist who specializes in creating engaging narratives for brands. She enjoys writing poetry and participates in local spoken word events.']\n",
      " ['Tech'\n",
      "  \"Aria is a talented communicator, adept at explaining complex concepts in a way that's easily understandable to others.\"]\n",
      " ['Tech'\n",
      "  'Mia excels at planning and organization, creating meticulous project structures and ensuring everything runs smoothly.']\n",
      " ['Salesperson'\n",
      "  \"Benjamin is a skilled software developer who's passionate about creating user-friendly applications. He's an open-source advocate and enjoys contributing to coding communities.\"]\n",
      " ['Salesperson'\n",
      "  \"Elizabeth is an excellent communicator who specializes in public relations and media outreach. She's skilled at managing crisis communications and building positive public image. She enjoys writing and volunteers as a public speaking coach.\"]\n",
      " ['Salesperson'\n",
      "  \"Amanda is a passionate advocate for diversity and inclusion in the workplace. She's skilled at implementing inclusive practices and has a strong background in HR. In her free time, she enjoys hiking and volunteers at an LGBTQ+ support group.\"]\n",
      " ['Salesperson'\n",
      "  \"Zoe is a skilled interpreter fluent in multiple languages. She's passionate about facilitating cross-cultural communication and volunteers her interpretation services at community events.\"]\n",
      " ['Tech'\n",
      "  'Sophia is a user advocate, championing the needs and preferences of end-users to ensure tech solutions are user-friendly and intuitive.']\n",
      " ['Tech'\n",
      "  'Jordan has an infectious passion for exploration. They love discussing the latest trends and enjoy sharing their excitement with others.']\n",
      " ['Salesperson'\n",
      "  \"Jennifer is a highly adaptable professional who excels in fast-paced environments. She's known for her ability to handle high-pressure situations with composure and a positive attitude. She's a certified yoga instructor and promotes wellness in her community.\"]\n",
      " ['Salesperson'\n",
      "  \"Emily is a top-performing pharmaceutical sales representative with a genuine dedication to improving healthcare outcomes. Her scientific background and empathy for patients set her apart. She's also a dedicated marathon runner and volunteers at a local hospital.\"]\n",
      " ['Salesperson'\n",
      "  \"Chloe is a marketing specialist with a talent for creating engaging social media campaigns. She's passionate about staying up to date with digital trends and is an advocate for responsible online content. Outside of work, she's an active member of a local photography club.\"]\n",
      " ['Tech'\n",
      "  'Olivia is a collaboration champion, fostering cooperation and teamwork among tech teams, ensuring project success.']\n",
      " ['Tech'\n",
      "  'Riley has an innate ability to communicate and make complex concepts understandable.']\n",
      " ['Tech'\n",
      "  'Casey pays meticulous attention to detail. Their precision ensures that projects are executed flawlessly and without errors.']\n",
      " ['Tech'\n",
      "  \"Avery's knowledge is awe-inspiring. They possess an encyclopedic understanding of various subjects.\"]\n",
      " ['Tech'\n",
      "  'Morgan is a trailblazer, always pushing the boundaries and embracing new approaches.']\n",
      " ['Salesperson'\n",
      "  \"Samuel is a dedicated librarian with a deep love for literature and education. He's an advocate for literacy and regularly conducts reading programs for children.\"]\n",
      " ['Salesperson'\n",
      "  \"Nolan is a communication expert with a knack for mediating conflicts and fostering understanding among team members. He's an advocate for mental health awareness and volunteers as a crisis hotline operator.\"]\n",
      " ['Salesperson'\n",
      "  'Emma is a customer service expert with a talent for resolving complex issues and ensuring customer satisfaction. She enjoys painting and frequently donates her artwork to charity auctions.']\n",
      " ['Salesperson'\n",
      "  \"Harper is a talented copywriter known for her persuasive writing and storytelling abilities. She's an avid reader and volunteers as a literacy tutor for children.\"]\n",
      " ['Salesperson'\n",
      "  \"Samuel is a technology evangelist with a deep passion for the latest gadgets and innovations. He's an advocate for coding education and regularly conducts coding workshops for local youth.\"]\n",
      " ['Salesperson'\n",
      "  'Aria is a crisis counselor with a compassionate nature and a deep commitment to mental health awareness. She enjoys painting and often uses art therapy in her counseling sessions.']\n",
      " ['Salesperson'\n",
      "  \"Oliver is a product manager with a knack for bringing innovative products to market. He's an advocate for sustainable product design and participates in eco-friendly design competitions.\"]\n",
      " ['Tech'\n",
      "  'Avery has an insatiable appetite for knowledge. They find joy in exploring new concepts and expanding their horizons.']\n",
      " ['Salesperson'\n",
      "  \"Emma is a talented graphic designer who's known for her ability to visually convey complex ideas. She's an advocate for arts education and regularly conducts art workshops for underprivileged children.\"]\n",
      " ['Salesperson'\n",
      "  \"Noah is a skilled carpenter who excels at crafting fine furniture. He's passionate about woodworking and often teaches woodworking skills to interested individuals.\"]\n",
      " ['Tech'\n",
      "  'Ava is a cybersecurity expert, committed to safeguarding digital assets and personal information, ensuring the utmost security in tech systems.']\n",
      " ['Salesperson'\n",
      "  \"Daniel is an international sales manager who thrives in multicultural environments. He's fluent in four languages and enjoys traveling in his free time. He's also an advocate for global awareness and sustainable business practices.\"]\n",
      " ['Tech'\n",
      "  \"Oliver's work is a masterpiece of precision and accuracy, whether it's coding, designing, or any tech-related task.\"]\n",
      " ['Tech'\n",
      "  \"Lucas has a deep sense of empathy, understanding how tech can impact people's lives and striving to create meaningful solutions.\"]\n",
      " ['Tech'\n",
      "  'Ethan is a mentor at heart, guiding and inspiring others with patience and encouragement.']\n",
      " ['Tech'\n",
      "  \"Taylor is known for staying ahead of the curve. They're always the first to embrace new trends and incorporate them into their work.\"]\n",
      " ['Salesperson'\n",
      "  'Samuel is an environmentalist with a strong commitment to sustainability and green practices. He enjoys educating others about environmental issues and actively participates in local clean-up initiatives.']\n",
      " ['Tech'\n",
      "  'Aiden is a lifelong learner, constantly seeking new knowledge and staying at the forefront of the ever-evolving tech landscape.']\n",
      " ['Salesperson'\n",
      "  \"Ethan is a passionate urban planner who specializes in sustainable city development. He's an advocate for green urban initiatives and volunteers to help plan community gardens.\"]\n",
      " ['Tech'\n",
      "  'Sofia is an advocate for ethical and sustainable tech practices, always striving to ensure responsible and sustainable development.']\n",
      " ['Salesperson'\n",
      "  'Elijah is a brilliant data analyst with an eye for patterns and trends. He enjoys solving complex puzzles in his free time and volunteers as a math tutor for high school students.']\n",
      " ['Salesperson'\n",
      "  \"Maya is a dedicated content creator who excels in producing captivating videos and podcasts. She's passionate about storytelling and enjoys hiking in her free time.\"]\n",
      " ['Salesperson'\n",
      "  \"Sarah is a dynamic saleswoman who specializes in B2B technology sales. Her passion for innovation and her deep industry knowledge make her a trusted advisor for her clients. Outside of work, she's a fitness enthusiast and a volunteer mentor for young entrepreneurs.\"]\n",
      " ['Salesperson'\n",
      "  \"Aaron is a financial advisor who's dedicated to helping individuals plan for their financial future. He's a strong advocate for financial literacy and offers free workshops to local communities.\"]\n",
      " ['Salesperson'\n",
      "  \"Robert is a strategic thinker with a talent for financial planning and analysis. He's passionate about helping individuals and businesses achieve their financial goals. Outside of work, he's a nature conservation advocate.\"]\n",
      " ['Tech'\n",
      "  \"Liam's attention to detail is unparalleled, ensuring every project is executed with precision and perfection.\"]\n",
      " ['Tech'\n",
      "  'Emma has a unique ability to adapt swiftly to changing tech landscapes, making them a valuable asset in any environment.']\n",
      " ['Tech'\n",
      "  \"Peyton's creative mind knows no bounds. They excel at thinking creatively and finding innovative solutions to challenges.\"]\n",
      " ['Tech'\n",
      "  'James is an innovation catalyst, inspiring creative thinking and pushing teams to explore groundbreaking tech ideas.']\n",
      " ['Tech'\n",
      "  'Michael is an analytical thinker, delving deep into tech challenges and breaking them down into manageable components.']\n",
      " ['Tech'\n",
      "  \"Emily is an empathetic techie, deeply understanding how tech impacts people's lives and striving to create meaningful, user-centered solutions.\"]\n",
      " ['Tech'\n",
      "  'Abigail is a meticulous code curator, organizing and documenting tech work for clarity and ease of use by others.']\n",
      " ['Salesperson'\n",
      "  'Ava is an accomplished violinist with a passion for classical music. She enjoys performing in local orchestras and teaching music to young students.']\n",
      " ['Salesperson'\n",
      "  'Mason is a talented chef with a passion for creating unique culinary experiences. He often experiments with fusion cuisine and shares his recipes on a popular cooking blog.']\n",
      " ['Salesperson'\n",
      "  \"Chloe is a talented marketing strategist who excels in creating data-driven marketing campaigns. She's passionate about supporting local businesses and often volunteers to help with their marketing efforts.\"]\n",
      " ['Tech'\n",
      "  'Jordan thrives in the world of tech by tackling complex challenges head-on. They have an innate ability to dissect issues and find practical solutions.']\n",
      " ['Tech'\n",
      "  'Sofia is an agile innovator, excelling at rapid prototyping and iteration to create groundbreaking tech solutions.']\n",
      " ['Salesperson'\n",
      "  \"Timothy is a dedicated researcher with a background in academia. He's passionate about advancing scientific knowledge and has published several research papers. He enjoys playing chess in his free time.\"]\n",
      " ['Tech'\n",
      "  \"Quinn's attention to detail is second to none. They catch even the smallest errors and ensure that everything they work on is perfect.\"]\n",
      " ['Salesperson'\n",
      "  \"Eric is a highly organized professional who excels at project management and process optimization. He's known for his ability to streamline workflows and improve efficiency. In his free time, he enjoys hiking and volunteers as a scout leader.\"]\n",
      " ['Salesperson'\n",
      "  \"Lily is a public health advocate with a deep commitment to improving community wellness. She's involved in several local health initiatives and is an advocate for preventative care.\"]\n",
      " ['Salesperson'\n",
      "  \"Ava is a dedicated occupational therapist with a strong commitment to improving the quality of life for her patients. She's an advocate for disability rights and volunteers as a mentor for individuals with disabilities.\"]\n",
      " ['Tech'\n",
      "  'Alex is a forward-thinker, always exploring new horizons. Their creativity and curiosity are boundless, and they love experimenting with emerging technologies.']\n",
      " ['Tech'\n",
      "  'Liam is a tech futurist, always staying one step ahead and predicting how emerging technologies will reshape industries.']\n",
      " ['Salesperson'\n",
      "  \"Grace is a creative thinker who specializes in marketing strategy and brand development. Her innovative ideas have led to successful marketing campaigns, and she's also a passionate amateur photographer.\"]\n",
      " ['Tech'\n",
      "  \"Mason's analytical mind excels at breaking down complex problems into manageable components for systematic solutions.\"]\n",
      " ['Tech'\n",
      "  'Isabella thrives on rapidly prototyping and iterating solutions, leading to groundbreaking innovations and adaptations.']\n",
      " ['Tech'\n",
      "  \"Dakota is deeply committed to user experiences. They design and create solutions with the end-users' needs in mind.\"]\n",
      " ['Salesperson'\n",
      "  \"John is an experienced sales professional with a track record of exceeding targets. He's known for his consultative approach and the ability to build strong client relationships. In his free time, he's an avid golfer and volunteers at a local animal shelter.\"]\n",
      " ['Tech'\n",
      "  'Taylor is a team player through and through. They excel at fostering collaboration and bringing diverse groups together to achieve goals.']\n",
      " ['Salesperson'\n",
      "  \"Sophia is a talented graphic designer who's known for her creative eye and attention to detail. She's passionate about visual storytelling and regularly contributes to local art exhibitions.\"]\n",
      " ['Salesperson'\n",
      "  \"Jack is a passionate geologist with a deep love for understanding the Earth's history. He enjoys hiking and often leads geology excursions for local schools.\"]\n",
      " ['Tech'\n",
      "  'Ava is a problem-solving enthusiast, tackling tech-related challenges head-on with determination and creative solutions.']\n",
      " ['Salesperson'\n",
      "  'Henry is a skilled event planner known for his attention to detail and organizational skills. He enjoys making creative arrangements for weddings and special events.']\n",
      " ['Tech'\n",
      "  'Sam approaches every problem with a logical mindset, breaking it down into solvable components for efficient resolution.']\n",
      " ['Tech'\n",
      "  'Logan is a quick learner and can adapt to new skills and knowledge with ease.']\n",
      " ['Tech'\n",
      "  'Noah has a strong passion for innovation and is always on the lookout for the latest trends that can reshape industries.']\n",
      " ['Tech'\n",
      "  'Cameron is an avid explorer, always ready to dive into new territories and discover uncharted territories.']\n",
      " ['Tech'\n",
      "  'Henry is a systematic thinker, breaking down complex tech problems into logical steps for efficient solutions.']\n",
      " ['Tech'\n",
      "  'Daniel is a visionary game developer, combining a love for gaming with cutting-edge technology to create immersive virtual experiences.']\n",
      " ['Salesperson'\n",
      "  \"Jessica is a seasoned real estate agent with a reputation for her strong negotiation skills and deep knowledge of the local market. She's an active member of her community and a board member for a local charity organization.\"]\n",
      " ['Tech'\n",
      "  'William is a strategic planner, always mapping out long-term tech strategies that align with organizational goals and vision.']\n",
      " ['Salesperson'\n",
      "  'Mason is a culinary artist known for his innovative cuisine and fine dining experiences. He enjoys experimenting with new flavors and volunteers to cook meals for local homeless shelters.']\n",
      " ['Tech'\n",
      "  'Avery is an agile adapter, seamlessly transitioning between different tech tools, languages, and methodologies.']\n",
      " ['Salesperson'\n",
      "  \"Leo is a highly analytical professional with a background in data science. He excels in interpreting complex data and transforming it into actionable insights. In his free time, he's an amateur astronomer and volunteers as a tutor for underprivileged students.\"]\n",
      " ['Tech'\n",
      "  \"Charlotte is deeply committed to user experiences, consistently creating tech solutions with the end-users' needs in mind.\"]\n",
      " ['Salesperson'\n",
      "  \"Mia is an expert in negotiation and conflict resolution. She's passionate about helping individuals and organizations resolve disputes amicably. She's a dedicated volunteer mediator for local community conflicts.\"]\n",
      " ['Tech'\n",
      "  \"Charlie has a knack for designing complex systems. They're the mastermind behind the architecture of many solutions, ensuring they're both robust and scalable.\"]\n",
      " ['Salesperson'\n",
      "  \"Ethan is a project manager who's known for his ability to keep projects on track and within budget. He enjoys playing the guitar and volunteers as a project management mentor for aspiring professionals.\"]\n",
      " ['Salesperson'\n",
      "  \"Richard is a technology enthusiast with a strong background in cybersecurity. He's dedicated to ensuring the security and privacy of digital systems. In his free time, he enjoys rock climbing and volunteers at a local technology education program.\"]\n",
      " ['Salesperson'\n",
      "  \"David is a tech-savvy sales specialist who's passionate about helping businesses embrace digital transformation. He's an expert in SaaS solutions and enjoys exploring the latest tech trends in his free time. He's an advocate for STEM education in his community.\"]\n",
      " ['Tech'\n",
      "  'Lucas is a patient IT support specialist, skilled in troubleshooting and solving technical issues with a friendly and helpful demeanor.']\n",
      " ['Salesperson'\n",
      "  \"Maria is a skilled retail sales associate known for her friendly demeanor and ability to create memorable in-store experiences. She's passionate about fashion and regularly shares style tips on her fashion blog.\"]\n",
      " ['Tech'\n",
      "  'Michael is a creative thinker, consistently exploring innovative tech solutions and thinking outside the box to solve challenges.']\n",
      " ['Salesperson'\n",
      "  \"Isabella is a dedicated public health researcher with a focus on epidemiology. She's passionate about studying disease patterns and volunteers in global health projects.\"]\n",
      " ['Tech'\n",
      "  'William is an efficient problem solver, tackling tech-related issues persistently until finding the most effective solutions.']\n",
      " ['Salesperson'\n",
      "  \"Isabella is a legal expert with a strong background in immigration law. She's dedicated to helping immigrants navigate the legal system and regularly volunteers at local immigration clinics.\"]\n",
      " ['Salesperson'\n",
      "  \"Laura is a detail-oriented individual with a passion for data analysis and problem-solving. She's skilled at turning data into actionable insights and enjoys painting in her spare time.\"]\n",
      " ['Salesperson'\n",
      "  \"Ryan is a driven sales engineer with a knack for turning complex technical solutions into understandable benefits for clients. He's an amateur musician and loves to spend his weekends performing at local open mic nights.\"]\n",
      " ['Tech'\n",
      "  'Sydney has an uncanny ability to diagnose and resolve issues. Their troubleshooting skills are unparalleled and essential in any environment.']\n",
      " ['Tech'\n",
      "  'Olivia is a versatile full-stack developer, excelling in both front-end and back-end technologies, adapting to various programming languages.']\n",
      " ['Tech'\n",
      "  \"Elijah is dedicated to environmentally sustainable practices, striving to reduce the industry's ecological footprint.\"]\n",
      " ['Tech'\n",
      "  'Evelyn is obsessed with efficiency and optimization. They can streamline processes and make systems run smoothly.']\n",
      " ['Tech'\n",
      "  'Sophia is a visionary, always predicting how emerging trends will reshape industries and society.']\n",
      " ['Salesperson'\n",
      "  \"Charles is a highly motivated professional who's known for his sales-driven mindset and goal-oriented approach. He enjoys studying consumer behavior and has a passion for entrepreneurship. Outside of work, he's an active participant in local startup events.\"]\n",
      " ['Salesperson'\n",
      "  \"Olivia is a results-oriented car salesperson who prides herself on her product knowledge and transparent sales approach. She's an equestrian enthusiast and participates in show jumping competitions on weekends.\"]\n",
      " ['Salesperson'\n",
      "  \"Sophia is an environmental engineer who's passionate about developing sustainable solutions for a greener future. She enjoys hiking and is a frequent volunteer at eco-friendly organizations.\"]\n",
      " ['Salesperson'\n",
      "  'Michael is a charismatic salesperson with a background in luxury retail. He excels at delivering exceptional customer experiences and is skilled at up-selling. In his spare time, he enjoys gourmet cooking and collecting rare vintage watches.']\n",
      " ['Tech'\n",
      "  'Elizabeth is a tech whisperer, simplifying complex tech concepts and making them understandable to a broad audience.']\n",
      " ['Salesperson'\n",
      "  \"Zoey is a dedicated social worker who's committed to improving the lives of vulnerable populations. She enjoys hiking and participating in fundraising events for her non-profit organization.\"]\n",
      " ['Tech'\n",
      "  'Harper is a natural at breaking down complex problems into manageable components, making them a valuable asset in any endeavor.']\n",
      " ['Tech'\n",
      "  \"Riley's mind is a well of creativity and innovation. They excel at thinking outside the box and finding novel solutions to problems.\"]\n",
      " ['Tech'\n",
      "  'Benjamin is an advocate for user-centric design, ensuring that tech solutions prioritize the needs and preferences of end-users.']\n",
      " ['Salesperson'\n",
      "  'Liam is a software engineer who thrives on creating efficient and robust software solutions. He enjoys contributing to open-source projects and is a volunteer coding instructor for a non-profit organization.']\n",
      " ['Salesperson'\n",
      "  \"Lucas is a user experience designer with a deep appreciation for user-centered design. He's dedicated to creating intuitive and aesthetically pleasing digital interfaces. In his free time, he's an aspiring novelist.\"]]\n"
     ]
    }
   ],
   "source": [
    "all_posts= data_set.to_numpy()\n",
    "print(all_posts)"
   ]
  },
  {
   "cell_type": "markdown",
   "metadata": {},
   "source": [
    "### Creating a function to tokenize the words"
   ]
  },
  {
   "cell_type": "code",
   "execution_count": 13,
   "metadata": {},
   "outputs": [
    {
     "ename": "LookupError",
     "evalue": "\n**********************************************************************\n  Resource \u001b[93mstopwords\u001b[0m not found.\n  Please use the NLTK Downloader to obtain the resource:\n\n  \u001b[31m>>> import nltk\n  >>> nltk.download('stopwords')\n  \u001b[0m\n  For more information see: https://www.nltk.org/data.html\n\n  Attempted to load \u001b[93mcorpora/stopwords\u001b[0m\n\n  Searched in:\n    - '/home/Anush2004/nltk_data'\n    - '/home/Anush2004/anaconda3/envs/newenv/nltk_data'\n    - '/home/Anush2004/anaconda3/envs/newenv/share/nltk_data'\n    - '/home/Anush2004/anaconda3/envs/newenv/lib/nltk_data'\n    - '/usr/share/nltk_data'\n    - '/usr/local/share/nltk_data'\n    - '/usr/lib/nltk_data'\n    - '/usr/local/lib/nltk_data'\n**********************************************************************\n",
     "output_type": "error",
     "traceback": [
      "\u001b[0;31m---------------------------------------------------------------------------\u001b[0m",
      "\u001b[0;31mLookupError\u001b[0m                               Traceback (most recent call last)",
      "File \u001b[0;32m~/anaconda3/envs/newenv/lib/python3.9/site-packages/nltk/corpus/util.py:84\u001b[0m, in \u001b[0;36mLazyCorpusLoader.__load\u001b[0;34m(self)\u001b[0m\n\u001b[1;32m     83\u001b[0m \u001b[39mtry\u001b[39;00m:\n\u001b[0;32m---> 84\u001b[0m     root \u001b[39m=\u001b[39m nltk\u001b[39m.\u001b[39;49mdata\u001b[39m.\u001b[39;49mfind(\u001b[39mf\u001b[39;49m\u001b[39m\"\u001b[39;49m\u001b[39m{\u001b[39;49;00m\u001b[39mself\u001b[39;49m\u001b[39m.\u001b[39;49msubdir\u001b[39m}\u001b[39;49;00m\u001b[39m/\u001b[39;49m\u001b[39m{\u001b[39;49;00mzip_name\u001b[39m}\u001b[39;49;00m\u001b[39m\"\u001b[39;49m)\n\u001b[1;32m     85\u001b[0m \u001b[39mexcept\u001b[39;00m \u001b[39mLookupError\u001b[39;00m:\n",
      "File \u001b[0;32m~/anaconda3/envs/newenv/lib/python3.9/site-packages/nltk/data.py:583\u001b[0m, in \u001b[0;36mfind\u001b[0;34m(resource_name, paths)\u001b[0m\n\u001b[1;32m    582\u001b[0m resource_not_found \u001b[39m=\u001b[39m \u001b[39mf\u001b[39m\u001b[39m\"\u001b[39m\u001b[39m\\n\u001b[39;00m\u001b[39m{\u001b[39;00msep\u001b[39m}\u001b[39;00m\u001b[39m\\n\u001b[39;00m\u001b[39m{\u001b[39;00mmsg\u001b[39m}\u001b[39;00m\u001b[39m\\n\u001b[39;00m\u001b[39m{\u001b[39;00msep\u001b[39m}\u001b[39;00m\u001b[39m\\n\u001b[39;00m\u001b[39m\"\u001b[39m\n\u001b[0;32m--> 583\u001b[0m \u001b[39mraise\u001b[39;00m \u001b[39mLookupError\u001b[39;00m(resource_not_found)\n",
      "\u001b[0;31mLookupError\u001b[0m: \n**********************************************************************\n  Resource \u001b[93mstopwords\u001b[0m not found.\n  Please use the NLTK Downloader to obtain the resource:\n\n  \u001b[31m>>> import nltk\n  >>> nltk.download('stopwords')\n  \u001b[0m\n  For more information see: https://www.nltk.org/data.html\n\n  Attempted to load \u001b[93mcorpora/stopwords.zip/stopwords/\u001b[0m\n\n  Searched in:\n    - '/home/Anush2004/nltk_data'\n    - '/home/Anush2004/anaconda3/envs/newenv/nltk_data'\n    - '/home/Anush2004/anaconda3/envs/newenv/share/nltk_data'\n    - '/home/Anush2004/anaconda3/envs/newenv/lib/nltk_data'\n    - '/usr/share/nltk_data'\n    - '/usr/local/share/nltk_data'\n    - '/usr/lib/nltk_data'\n    - '/usr/local/lib/nltk_data'\n**********************************************************************\n",
      "\nDuring handling of the above exception, another exception occurred:\n",
      "\u001b[0;31mLookupError\u001b[0m                               Traceback (most recent call last)",
      "\u001b[1;32m/home/Anush2004/Meghathon/Sales-Tech_Classifier.ipynb Cell 19\u001b[0m line \u001b[0;36m1\n\u001b[0;32m----> <a href='vscode-notebook-cell://ssh-remote%2Brce.iiit.ac.in/home/Anush2004/Meghathon/Sales-Tech_Classifier.ipynb#X24sdnNjb2RlLXJlbW90ZQ%3D%3D?line=0'>1</a>\u001b[0m useless_words \u001b[39m=\u001b[39m nltk\u001b[39m.\u001b[39;49mcorpus\u001b[39m.\u001b[39;49mstopwords\u001b[39m.\u001b[39;49mwords(\u001b[39m\"\u001b[39m\u001b[39menglish\u001b[39m\u001b[39m\"\u001b[39m) \u001b[39m+\u001b[39m \u001b[39mlist\u001b[39m(string\u001b[39m.\u001b[39mpunctuation)\n\u001b[1;32m      <a href='vscode-notebook-cell://ssh-remote%2Brce.iiit.ac.in/home/Anush2004/Meghathon/Sales-Tech_Classifier.ipynb#X24sdnNjb2RlLXJlbW90ZQ%3D%3D?line=1'>2</a>\u001b[0m \u001b[39mdef\u001b[39;00m \u001b[39mbuild_bag_of_words_features_filtered\u001b[39m(words):\n\u001b[1;32m      <a href='vscode-notebook-cell://ssh-remote%2Brce.iiit.ac.in/home/Anush2004/Meghathon/Sales-Tech_Classifier.ipynb#X24sdnNjb2RlLXJlbW90ZQ%3D%3D?line=2'>3</a>\u001b[0m     words \u001b[39m=\u001b[39m nltk\u001b[39m.\u001b[39mword_tokenize(words)\n",
      "File \u001b[0;32m~/anaconda3/envs/newenv/lib/python3.9/site-packages/nltk/corpus/util.py:121\u001b[0m, in \u001b[0;36mLazyCorpusLoader.__getattr__\u001b[0;34m(self, attr)\u001b[0m\n\u001b[1;32m    118\u001b[0m \u001b[39mif\u001b[39;00m attr \u001b[39m==\u001b[39m \u001b[39m\"\u001b[39m\u001b[39m__bases__\u001b[39m\u001b[39m\"\u001b[39m:\n\u001b[1;32m    119\u001b[0m     \u001b[39mraise\u001b[39;00m \u001b[39mAttributeError\u001b[39;00m(\u001b[39m\"\u001b[39m\u001b[39mLazyCorpusLoader object has no attribute \u001b[39m\u001b[39m'\u001b[39m\u001b[39m__bases__\u001b[39m\u001b[39m'\u001b[39m\u001b[39m\"\u001b[39m)\n\u001b[0;32m--> 121\u001b[0m \u001b[39mself\u001b[39;49m\u001b[39m.\u001b[39;49m__load()\n\u001b[1;32m    122\u001b[0m \u001b[39m# This looks circular, but its not, since __load() changes our\u001b[39;00m\n\u001b[1;32m    123\u001b[0m \u001b[39m# __class__ to something new:\u001b[39;00m\n\u001b[1;32m    124\u001b[0m \u001b[39mreturn\u001b[39;00m \u001b[39mgetattr\u001b[39m(\u001b[39mself\u001b[39m, attr)\n",
      "File \u001b[0;32m~/anaconda3/envs/newenv/lib/python3.9/site-packages/nltk/corpus/util.py:86\u001b[0m, in \u001b[0;36mLazyCorpusLoader.__load\u001b[0;34m(self)\u001b[0m\n\u001b[1;32m     84\u001b[0m             root \u001b[39m=\u001b[39m nltk\u001b[39m.\u001b[39mdata\u001b[39m.\u001b[39mfind(\u001b[39mf\u001b[39m\u001b[39m\"\u001b[39m\u001b[39m{\u001b[39;00m\u001b[39mself\u001b[39m\u001b[39m.\u001b[39msubdir\u001b[39m}\u001b[39;00m\u001b[39m/\u001b[39m\u001b[39m{\u001b[39;00mzip_name\u001b[39m}\u001b[39;00m\u001b[39m\"\u001b[39m)\n\u001b[1;32m     85\u001b[0m         \u001b[39mexcept\u001b[39;00m \u001b[39mLookupError\u001b[39;00m:\n\u001b[0;32m---> 86\u001b[0m             \u001b[39mraise\u001b[39;00m e\n\u001b[1;32m     88\u001b[0m \u001b[39m# Load the corpus.\u001b[39;00m\n\u001b[1;32m     89\u001b[0m corpus \u001b[39m=\u001b[39m \u001b[39mself\u001b[39m\u001b[39m.\u001b[39m__reader_cls(root, \u001b[39m*\u001b[39m\u001b[39mself\u001b[39m\u001b[39m.\u001b[39m__args, \u001b[39m*\u001b[39m\u001b[39m*\u001b[39m\u001b[39mself\u001b[39m\u001b[39m.\u001b[39m__kwargs)\n",
      "File \u001b[0;32m~/anaconda3/envs/newenv/lib/python3.9/site-packages/nltk/corpus/util.py:81\u001b[0m, in \u001b[0;36mLazyCorpusLoader.__load\u001b[0;34m(self)\u001b[0m\n\u001b[1;32m     79\u001b[0m \u001b[39melse\u001b[39;00m:\n\u001b[1;32m     80\u001b[0m     \u001b[39mtry\u001b[39;00m:\n\u001b[0;32m---> 81\u001b[0m         root \u001b[39m=\u001b[39m nltk\u001b[39m.\u001b[39;49mdata\u001b[39m.\u001b[39;49mfind(\u001b[39mf\u001b[39;49m\u001b[39m\"\u001b[39;49m\u001b[39m{\u001b[39;49;00m\u001b[39mself\u001b[39;49m\u001b[39m.\u001b[39;49msubdir\u001b[39m}\u001b[39;49;00m\u001b[39m/\u001b[39;49m\u001b[39m{\u001b[39;49;00m\u001b[39mself\u001b[39;49m\u001b[39m.\u001b[39;49m__name\u001b[39m}\u001b[39;49;00m\u001b[39m\"\u001b[39;49m)\n\u001b[1;32m     82\u001b[0m     \u001b[39mexcept\u001b[39;00m \u001b[39mLookupError\u001b[39;00m \u001b[39mas\u001b[39;00m e:\n\u001b[1;32m     83\u001b[0m         \u001b[39mtry\u001b[39;00m:\n",
      "File \u001b[0;32m~/anaconda3/envs/newenv/lib/python3.9/site-packages/nltk/data.py:583\u001b[0m, in \u001b[0;36mfind\u001b[0;34m(resource_name, paths)\u001b[0m\n\u001b[1;32m    581\u001b[0m sep \u001b[39m=\u001b[39m \u001b[39m\"\u001b[39m\u001b[39m*\u001b[39m\u001b[39m\"\u001b[39m \u001b[39m*\u001b[39m \u001b[39m70\u001b[39m\n\u001b[1;32m    582\u001b[0m resource_not_found \u001b[39m=\u001b[39m \u001b[39mf\u001b[39m\u001b[39m\"\u001b[39m\u001b[39m\\n\u001b[39;00m\u001b[39m{\u001b[39;00msep\u001b[39m}\u001b[39;00m\u001b[39m\\n\u001b[39;00m\u001b[39m{\u001b[39;00mmsg\u001b[39m}\u001b[39;00m\u001b[39m\\n\u001b[39;00m\u001b[39m{\u001b[39;00msep\u001b[39m}\u001b[39;00m\u001b[39m\\n\u001b[39;00m\u001b[39m\"\u001b[39m\n\u001b[0;32m--> 583\u001b[0m \u001b[39mraise\u001b[39;00m \u001b[39mLookupError\u001b[39;00m(resource_not_found)\n",
      "\u001b[0;31mLookupError\u001b[0m: \n**********************************************************************\n  Resource \u001b[93mstopwords\u001b[0m not found.\n  Please use the NLTK Downloader to obtain the resource:\n\n  \u001b[31m>>> import nltk\n  >>> nltk.download('stopwords')\n  \u001b[0m\n  For more information see: https://www.nltk.org/data.html\n\n  Attempted to load \u001b[93mcorpora/stopwords\u001b[0m\n\n  Searched in:\n    - '/home/Anush2004/nltk_data'\n    - '/home/Anush2004/anaconda3/envs/newenv/nltk_data'\n    - '/home/Anush2004/anaconda3/envs/newenv/share/nltk_data'\n    - '/home/Anush2004/anaconda3/envs/newenv/lib/nltk_data'\n    - '/usr/share/nltk_data'\n    - '/usr/local/share/nltk_data'\n    - '/usr/lib/nltk_data'\n    - '/usr/local/lib/nltk_data'\n**********************************************************************\n"
     ]
    }
   ],
   "source": [
    "useless_words = nltk.corpus.stopwords.words(\"english\") + list(string.punctuation)\n",
    "def build_bag_of_words_features_filtered(words):\n",
    "    words = nltk.word_tokenize(words)\n",
    "    return {\n",
    "        word:1 for word in words \\\n",
    "        if not word in useless_words}"
   ]
  },
  {
   "cell_type": "markdown",
   "metadata": {},
   "source": [
    "A random check of the function"
   ]
  },
  {
   "cell_type": "markdown",
   "metadata": {},
   "source": [
    "## Creating an array of features"
   ]
  },
  {
   "cell_type": "code",
   "execution_count": null,
   "metadata": {},
   "outputs": [
    {
     "name": "stdout",
     "output_type": "stream",
     "text": [
      "116\n"
     ]
    }
   ],
   "source": [
    "features=[]\n",
    "for i in range(0,len(all_posts)):\n",
    "    features += [(build_bag_of_words_features_filtered(all_posts[i][1]), all_posts[i][0])]\n",
    "print(len(features))"
   ]
  },
  {
   "cell_type": "code",
   "execution_count": null,
   "metadata": {},
   "outputs": [
    {
     "name": "stdout",
     "output_type": "stream",
     "text": [
      "({'Daniel': 1, 'visionary': 1, 'game': 1, 'developer': 1, 'combining': 1, 'love': 1, 'gaming': 1, 'cutting-edge': 1, 'technology': 1, 'create': 1, 'immersive': 1, 'virtual': 1, 'experiences': 1}, 'Tech')\n"
     ]
    }
   ],
   "source": [
    "print(features[0])"
   ]
  },
  {
   "cell_type": "markdown",
   "metadata": {},
   "source": [
    "Data for training"
   ]
  },
  {
   "cell_type": "code",
   "execution_count": null,
   "metadata": {},
   "outputs": [
    {
     "name": "stdout",
     "output_type": "stream",
     "text": [
      "92\n"
     ]
    }
   ],
   "source": [
    "\n",
    "t= int(len(features)*0.8)\n",
    "train = features[:t]\n",
    "print(len(train))"
   ]
  },
  {
   "cell_type": "markdown",
   "metadata": {},
   "source": [
    "Training the model for basic NaiveBayesClassifier"
   ]
  },
  {
   "cell_type": "code",
   "execution_count": null,
   "metadata": {},
   "outputs": [],
   "source": [
    "sentiment_classifier = NaiveBayesClassifier.train(train)"
   ]
  },
  {
   "cell_type": "markdown",
   "metadata": {},
   "source": [
    "Testing the model on the dataset it was trained for accuracy"
   ]
  },
  {
   "cell_type": "code",
   "execution_count": null,
   "metadata": {
    "scrolled": true
   },
   "outputs": [
    {
     "data": {
      "text/plain": [
       "100.0"
      ]
     },
     "execution_count": 43,
     "metadata": {},
     "output_type": "execute_result"
    }
   ],
   "source": [
    "nltk.classify.util.accuracy(sentiment_classifier, train)*100"
   ]
  },
  {
   "cell_type": "markdown",
   "metadata": {},
   "source": [
    "Creating the test data"
   ]
  },
  {
   "cell_type": "code",
   "execution_count": null,
   "metadata": {},
   "outputs": [],
   "source": [
    "test = features[t:]"
   ]
  },
  {
   "cell_type": "markdown",
   "metadata": {},
   "source": [
    "Testing the model on the test dataset which it has never seen before"
   ]
  },
  {
   "cell_type": "code",
   "execution_count": null,
   "metadata": {},
   "outputs": [
    {
     "data": {
      "text/plain": [
       "91.66666666666666"
      ]
     },
     "execution_count": 45,
     "metadata": {},
     "output_type": "execute_result"
    }
   ],
   "source": [
    "nltk.classify.util.accuracy(sentiment_classifier, test)*100"
   ]
  },
  {
   "cell_type": "markdown",
   "metadata": {},
   "source": [
    "## Creating a classifyer for Tech or Sales\n",
    "\n"
   ]
  },
  {
   "cell_type": "code",
   "execution_count": null,
   "metadata": {},
   "outputs": [
    {
     "name": "stderr",
     "output_type": "stream",
     "text": [
      "Some weights of BertForSequenceClassification were not initialized from the model checkpoint at bert-base-uncased and are newly initialized: ['classifier.bias', 'classifier.weight']\n",
      "You should probably TRAIN this model on a down-stream task to be able to use it for predictions and inference.\n"
     ]
    }
   ],
   "source": [
    "from transformers import BertTokenizer, BertForSequenceClassification\n",
    "\n",
    "# Load the BERT model and tokenizer\n",
    "tokenizer = BertTokenizer.from_pretrained(\"bert-base-uncased\")\n",
    "model = BertForSequenceClassification.from_pretrained(\"bert-base-uncased\", num_labels=2) "
   ]
  },
  {
   "cell_type": "markdown",
   "metadata": {},
   "source": [
    "Data for training"
   ]
  },
  {
   "cell_type": "code",
   "execution_count": null,
   "metadata": {},
   "outputs": [
    {
     "name": "stdout",
     "output_type": "stream",
     "text": [
      "104\n"
     ]
    }
   ],
   "source": [
    "t= int(len(features)*0.9)\n",
    "train = features[:t]\n",
    "print(len(train))"
   ]
  },
  {
   "cell_type": "code",
   "execution_count": null,
   "metadata": {},
   "outputs": [
    {
     "name": "stdout",
     "output_type": "stream",
     "text": [
      "Tech\n"
     ]
    }
   ],
   "source": [
    "print(train[8][1])\n"
   ]
  },
  {
   "cell_type": "code",
   "execution_count": null,
   "metadata": {},
   "outputs": [],
   "source": [
    "import torch\n",
    "\n",
    "# Extract features and labels from your data\n",
    "labels1=[]\n",
    "features1=[]\n",
    "for i in range(len(train)):\n",
    "    features1.append(train[i][0]) # Replace 'your_data' with your tokenized data\n",
    "    labels1.append(train[i][1])\n",
    "# Tokenize and convert data to tensors\n",
    "input_ids = []\n",
    "attention_mask = []\n",
    "\n",
    "for example in features1:\n",
    "    # Convert the dictionary to a string representation\n",
    "    example_str = ' '.join([f\"{token}:{count}\" for token, count in example.items()])\n",
    "    \n",
    "    encoded = tokenizer.encode_plus(\n",
    "        example_str,\n",
    "        add_special_tokens=True,\n",
    "        max_length=512,  # Adjust this based on your data and model limitations\n",
    "        padding='max_length',\n",
    "        truncation=True,\n",
    "        return_attention_mask=True,\n",
    "        return_tensors='pt'\n",
    "    )\n",
    "    \n",
    "    input_ids.append(encoded['input_ids'])\n",
    "    attention_mask.append(encoded['attention_mask'])\n",
    "input_ids = torch.cat(input_ids, dim=0)\n",
    "attention_mask = torch.cat(attention_mask, dim=0)\n"
   ]
  },
  {
   "cell_type": "code",
   "execution_count": null,
   "metadata": {},
   "outputs": [
    {
     "name": "stdout",
     "output_type": "stream",
     "text": [
      "{'Tech': 0, 'Salesperson': 1}\n",
      "104\n"
     ]
    }
   ],
   "source": [
    "label_to_id = {label: index for index, label in enumerate(set(labels1))}\n",
    "print(label_to_id)\n",
    "labels = [label_to_id[label] for label in labels1]\n",
    "labels = torch.tensor(labels)\n",
    "print(len(labels))\n"
   ]
  },
  {
   "cell_type": "code",
   "execution_count": null,
   "metadata": {},
   "outputs": [],
   "source": [
    "from torch.utils.data import DataLoader, TensorDataset\n",
    "\n",
    "dataset = TensorDataset(input_ids, attention_mask, labels)\n",
    "# Split your data into training and testing sets\n",
    "train_size = int(0.8 * len(dataset))\n",
    "test_size = len(dataset) - train_size\n",
    "train_dataset, test_dataset = torch.utils.data.random_split(dataset, [train_size, test_size])\n",
    "train_dataloader = DataLoader(train_dataset, batch_size=30, shuffle=True)\n",
    "test_dataloader = DataLoader(test_dataset, batch_size=30)\n"
   ]
  },
  {
   "cell_type": "code",
   "execution_count": null,
   "metadata": {},
   "outputs": [
    {
     "name": "stdout",
     "output_type": "stream",
     "text": [
      "Epoch 1 - Average Loss: 0.5988\n",
      "Epoch 2 - Average Loss: 0.5356\n",
      "Epoch 3 - Average Loss: 0.5236\n"
     ]
    },
    {
     "data": {
      "text/plain": [
       "('latest_model/tokenizer_config.json',\n",
       " 'latest_model/special_tokens_map.json',\n",
       " 'latest_model/vocab.txt',\n",
       " 'latest_model/added_tokens.json')"
      ]
     },
     "execution_count": 58,
     "metadata": {},
     "output_type": "execute_result"
    }
   ],
   "source": [
    "import torch.optim as optim\n",
    "from transformers import get_linear_schedule_with_warmup\n",
    "\n",
    "optimizer = optim.AdamW(model.parameters(), lr=2e-5)\n",
    "scheduler = get_linear_schedule_with_warmup(optimizer, num_warmup_steps=0, num_training_steps=len(train_dataloader))\n",
    "\n",
    "# Fine-tuning parameters\n",
    "num_epochs = 3\n",
    "\n",
    "model.train()\n",
    "for epoch in range(num_epochs):\n",
    "    total_loss = 0.0\n",
    "    for batch in train_dataloader:\n",
    "        input_ids, attention_mask, labels = batch\n",
    "        optimizer.zero_grad()\n",
    "        outputs = model(input_ids, attention_mask=attention_mask, labels=labels)\n",
    "        loss = outputs.loss\n",
    "        loss.backward()\n",
    "        optimizer.step()\n",
    "        scheduler.step()\n",
    "\n",
    "        total_loss += loss.item()\n",
    "\n",
    "    # Calculate and print the average loss for this epoch\n",
    "    avg_loss = total_loss / len(train_dataloader)\n",
    "    print(f\"Epoch {epoch + 1} - Average Loss: {avg_loss:.4f}\")\n",
    "\n",
    "model.save_pretrained(\"latest_model\")  # Save the fine-tuned model\n",
    "tokenizer.save_pretrained(\"latest_model\")"
   ]
  },
  {
   "cell_type": "code",
   "execution_count": null,
   "metadata": {},
   "outputs": [
    {
     "name": "stdout",
     "output_type": "stream",
     "text": [
      "tensor([1, 1, 1, 1, 0, 1, 1, 0, 1, 0, 0, 1, 0, 0, 0, 0, 0, 1, 1, 0, 1])\n",
      "Test Accuracy: 90.48%\n"
     ]
    },
    {
     "name": "stderr",
     "output_type": "stream",
     "text": [
      "/tmp/ipykernel_3940941/699154312.py:12: UserWarning: To copy construct from a tensor, it is recommended to use sourceTensor.clone().detach() or sourceTensor.clone().detach().requires_grad_(True), rather than torch.tensor(sourceTensor).\n",
      "  outputs=F.softmax(torch.tensor(outputs.logits), dim=1)\n"
     ]
    }
   ],
   "source": [
    "import torch.nn.functional as F\n",
    "\n",
    "model.eval()\n",
    "\n",
    "total_correct = 0\n",
    "total_samples = 0\n",
    "\n",
    "with torch.no_grad():\n",
    "    for batch in test_dataloader:\n",
    "        input_ids, attention_mask, labels = batch\n",
    "        outputs = model(input_ids, attention_mask=attention_mask)\n",
    "        outputs=F.softmax(torch.tensor(outputs.logits), dim=1)\n",
    "        predicted = torch.argmax(outputs, dim=1)\n",
    "        total_correct += (predicted == labels).sum().item()\n",
    "        total_samples += len(labels)\n",
    "\n",
    "accuracy = total_correct / total_samples\n",
    "print(f\"Test Accuracy: {accuracy * 100:.2f}%\")"
   ]
  },
  {
   "cell_type": "markdown",
   "metadata": {},
   "source": [
    "## Cultural Fit\n",
    "Now since we classified it as Tech and Sales we r doing something extra by checking the cultural fitness of a person for that company\n",
    "We use similarity metric"
   ]
  },
  {
   "cell_type": "code",
   "execution_count": null,
   "metadata": {},
   "outputs": [],
   "source": [
    "useless_words = nltk.corpus.stopwords.words(\"english\") + list(string.punctuation)\n",
    "def Bag_Of_Word(words):\n",
    "    words = nltk.word_tokenize(words)\n",
    "    return [\n",
    "        word for word in words \\\n",
    "        if not word in useless_words]"
   ]
  },
  {
   "cell_type": "code",
   "execution_count": null,
   "metadata": {},
   "outputs": [
    {
     "name": "stdout",
     "output_type": "stream",
     "text": [
      "[ 5.12589163  5.33464909  4.79715468  4.51086705  5.12799969  6.11969703\n",
      "  6.86587619  4.60514256  7.89991095  5.44561353  6.97901126  6.84536086\n",
      "  7.76115563  7.51385181  6.44480551  2.69162009  4.07900044  4.01938115\n",
      "  6.63354104  4.53072949  5.00615405  6.24926589  8.29252646  6.25675794\n",
      "  4.94570539  5.47868629  4.75595875  6.26949965  7.85350779  7.36864584\n",
      "  2.6483483   6.18699655  7.31415233  4.22956555  4.15796139  6.329653\n",
      "  5.10569057  4.32655385  6.0104022   7.93368182  3.10918694  0.\n",
      "  5.1810171   5.19482423  4.99541432  5.9987015   5.05116895  3.06493401\n",
      "  7.99041137  8.20515422  5.85431551  7.98917707  7.94864405  2.91068453\n",
      "  7.89084546  5.65971228  3.93694759  2.74703284  2.98087057  7.05609918\n",
      "  4.55051144  6.75070068  4.42628319  5.01337454  7.34523546  5.8351496\n",
      " 10.          7.34480463  6.50420856  6.28140426  5.84576618  3.83088635\n",
      "  4.05054163  2.93474802  7.18266436  5.31193682  3.76257666  4.51367239\n",
      "  4.93824442  3.345424    3.44845062  6.35450083  1.51095297  6.53124701\n",
      "  5.70778832  7.19883657  7.56182158  5.0216496   7.75380752  4.4173682\n",
      "  7.82767803  9.7650616   5.1718899   6.42000531  6.96553619  3.94393372\n",
      "  2.70435022  4.53294078  4.31722518  6.86093376  5.26016326  7.01750431\n",
      "  5.44605585  5.38792804  6.93244915  4.61965436  4.25831568  7.03288372\n",
      "  6.24400382  6.98310713  5.58474983  7.74031929  4.38244211  7.37576245\n",
      "  3.55487167  6.88033069]\n"
     ]
    }
   ],
   "source": [
    "import spacy\n",
    "\n",
    "# Load the spaCy model\n",
    "nlp = spacy.load(\"en_core_web_md\")\n",
    "\n",
    "# Define the datapoint and target corpora as lists of words\n",
    "datapoint_corpus = [\"Diversity\", \"Equity\", \"Inclusion\", \"Innovation\", \"Empowerment\",\"Joy\",\"Excelling\"]\n",
    "\n",
    "# Create spaCy Doc objects for each corpus\n",
    "\n",
    "doc_datapoint = [nlp(word) for word in datapoint_corpus]\n",
    "p_similarity=[]\n",
    "for i in range(0,len(all_posts)):\n",
    "\n",
    "    target_corpus=Bag_Of_Word(all_posts[i][1])[1:]\n",
    "    doc_target = [nlp(word) for word in target_corpus]\n",
    "\n",
    "    # Calculate the presence of matching words and assign a similarity score\n",
    "    # In this example, we give a higher score if at least one word matches.\n",
    "    similarity_scores = []\n",
    "    for doc1 in doc_datapoint:\n",
    "        max_similarity = max(doc1.similarity(doc2) for doc2 in doc_target)\n",
    "        similarity_scores.append(max_similarity)\n",
    "\n",
    "    # Calculate the overall similarity as the maximum similarity score\n",
    "    overall_similarity = np.mean(similarity_scores)\n",
    "    p_similarity.append(overall_similarity)\n",
    "    # Print the overall similarity\n",
    "    # print(f\"Overall Similarity: {overall_similarity}\")\n",
    "\n",
    "\n",
    "p_similarity =( p_similarity -min(p_similarity)) /(max(p_similarity)-min(p_similarity)) * 10\n",
    "\n",
    "# Define the datapoint and target corpora as lists of words\n",
    "print(p_similarity)\n",
    "\n",
    "    "
   ]
  }
 ],
 "metadata": {
  "kernelspec": {
   "display_name": "Python 3",
   "language": "python",
   "name": "python3"
  },
  "language_info": {
   "codemirror_mode": {
    "name": "ipython",
    "version": 3
   },
   "file_extension": ".py",
   "mimetype": "text/x-python",
   "name": "python",
   "nbconvert_exporter": "python",
   "pygments_lexer": "ipython3",
   "version": "3.9.12"
  }
 },
 "nbformat": 4,
 "nbformat_minor": 2
}
